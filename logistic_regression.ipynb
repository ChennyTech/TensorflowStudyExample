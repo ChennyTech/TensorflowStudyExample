{
  "nbformat": 4,
  "nbformat_minor": 0,
  "metadata": {
    "colab": {
      "name": "logistic_regression.ipynb",
      "provenance": [],
      "include_colab_link": true
    },
    "kernelspec": {
      "name": "python3",
      "display_name": "Python 3"
    }
  },
  "cells": [
    {
      "cell_type": "markdown",
      "metadata": {
        "id": "view-in-github",
        "colab_type": "text"
      },
      "source": [
        "<a href=\"https://colab.research.google.com/github/ChennyTech/TensorflowStudyExample/blob/master/logistic_regression.ipynb\" target=\"_parent\"><img src=\"https://colab.research.google.com/assets/colab-badge.svg\" alt=\"Open In Colab\"/></a>"
      ]
    },
    {
      "cell_type": "code",
      "metadata": {
        "id": "Y_-uHXQusEa7",
        "colab_type": "code",
        "colab": {
          "base_uri": "https://localhost:8080/",
          "height": 299
        },
        "outputId": "dbad9700-fe5e-42cd-9b7f-aa0f5a6926e1"
      },
      "source": [
        "import torch\n",
        "import torch.nn as nn\n",
        "import torchvision\n",
        "import torchvision.transforms as transforms\n",
        "\n",
        "\n",
        "# Hyper-parameters \n",
        "input_size = 784\n",
        "num_classes = 10 \n",
        "num_epochs = 5\n",
        "batch_size = 100\n",
        "learning_rate = 0.001\n",
        "\n",
        "# MNIST dataset (images and labels)\n",
        "train_dataset = torchvision.datasets.MNIST(root='../../data', \n",
        "                                           train=True, \n",
        "                                           transform=transforms.ToTensor(),\n",
        "                                           download=True)\n",
        "\n",
        "test_dataset = torchvision.datasets.MNIST(root='../../data', \n",
        "                                          train=False, \n",
        "                                          transform=transforms.ToTensor())\n",
        "\n",
        "# Data loader (input pipeline)\n",
        "train_loader = torch.utils.data.DataLoader(dataset=train_dataset, \n",
        "                                           batch_size=batch_size, \n",
        "                                           shuffle=True)\n",
        "\n",
        "test_loader = torch.utils.data.DataLoader(dataset=test_dataset, \n",
        "                                          batch_size=batch_size, \n",
        "                                          shuffle=False)\n"
      ],
      "execution_count": 2,
      "outputs": [
        {
          "output_type": "stream",
          "text": [
            "\r0it [00:00, ?it/s]"
          ],
          "name": "stderr"
        },
        {
          "output_type": "stream",
          "text": [
            "Downloading http://yann.lecun.com/exdb/mnist/train-images-idx3-ubyte.gz to ../../data/MNIST/raw/train-images-idx3-ubyte.gz\n"
          ],
          "name": "stdout"
        },
        {
          "output_type": "stream",
          "text": [
            "9920512it [00:01, 9673795.06it/s]                            \n"
          ],
          "name": "stderr"
        },
        {
          "output_type": "stream",
          "text": [
            "Extracting ../../data/MNIST/raw/train-images-idx3-ubyte.gz to ../../data/MNIST/raw\n"
          ],
          "name": "stdout"
        },
        {
          "output_type": "stream",
          "text": [
            "  0%|          | 0/28881 [00:00<?, ?it/s]"
          ],
          "name": "stderr"
        },
        {
          "output_type": "stream",
          "text": [
            "Downloading http://yann.lecun.com/exdb/mnist/train-labels-idx1-ubyte.gz to ../../data/MNIST/raw/train-labels-idx1-ubyte.gz\n"
          ],
          "name": "stdout"
        },
        {
          "output_type": "stream",
          "text": [
            "32768it [00:00, 141440.88it/s]           \n",
            "  0%|          | 0/1648877 [00:00<?, ?it/s]"
          ],
          "name": "stderr"
        },
        {
          "output_type": "stream",
          "text": [
            "Extracting ../../data/MNIST/raw/train-labels-idx1-ubyte.gz to ../../data/MNIST/raw\n",
            "Downloading http://yann.lecun.com/exdb/mnist/t10k-images-idx3-ubyte.gz to ../../data/MNIST/raw/t10k-images-idx3-ubyte.gz\n"
          ],
          "name": "stdout"
        },
        {
          "output_type": "stream",
          "text": [
            "1654784it [00:00, 2311567.77it/s]                           \n",
            "0it [00:00, ?it/s]"
          ],
          "name": "stderr"
        },
        {
          "output_type": "stream",
          "text": [
            "Extracting ../../data/MNIST/raw/t10k-images-idx3-ubyte.gz to ../../data/MNIST/raw\n",
            "Downloading http://yann.lecun.com/exdb/mnist/t10k-labels-idx1-ubyte.gz to ../../data/MNIST/raw/t10k-labels-idx1-ubyte.gz\n"
          ],
          "name": "stdout"
        },
        {
          "output_type": "stream",
          "text": [
            "8192it [00:00, 51918.85it/s]            \n"
          ],
          "name": "stderr"
        },
        {
          "output_type": "stream",
          "text": [
            "Extracting ../../data/MNIST/raw/t10k-labels-idx1-ubyte.gz to ../../data/MNIST/raw\n",
            "Processing...\n",
            "Done!\n"
          ],
          "name": "stdout"
        }
      ]
    },
    {
      "cell_type": "code",
      "metadata": {
        "id": "8OBeo4EJhjN0",
        "colab_type": "code",
        "colab": {
          "base_uri": "https://localhost:8080/",
          "height": 36
        },
        "outputId": "8cfe8d20-fe3b-4546-e2e5-10e1f9662df5"
      },
      "source": [
        "enumerate(train_loader)"
      ],
      "execution_count": 3,
      "outputs": [
        {
          "output_type": "execute_result",
          "data": {
            "text/plain": [
              "<enumerate at 0x7fc2b338a798>"
            ]
          },
          "metadata": {
            "tags": []
          },
          "execution_count": 3
        }
      ]
    },
    {
      "cell_type": "code",
      "metadata": {
        "id": "cdSyN03IgqfW",
        "colab_type": "code",
        "colab": {
          "base_uri": "https://localhost:8080/",
          "height": 596
        },
        "outputId": "1b4a88fd-f71b-41d2-ec67-808f92628342"
      },
      "source": [
        "# Logistic regression model\n",
        "model = nn.Linear(input_size, num_classes) # linear regression의 output size와 다른점은?\n",
        "\n",
        "# Loss and optimizer\n",
        "# nn.CrossEntropyLoss() computes softmax internally\n",
        "criterion = nn.CrossEntropyLoss()  \n",
        "optimizer = torch.optim.SGD(model.parameters(), lr=learning_rate)  \n",
        "\n",
        "# Train the model\n",
        "total_step = len(train_loader)\n",
        "for epoch in range(num_epochs):\n",
        "    for i, (images, labels) in enumerate(train_loader): # enumerate은 다양한 자료형 받아서 하나씩리턴\n",
        "        # Reshape images to (batch_size, input_size)\n",
        "        images = images.reshape(-1, 28*28)\n",
        "        \n",
        "        # Forward pass\n",
        "        outputs = model(images)\n",
        "        loss = criterion(outputs, labels)\n",
        "        \n",
        "        # Backward and optimize\n",
        "        optimizer.zero_grad()\n",
        "        loss.backward()\n",
        "        optimizer.step()\n",
        "        \n",
        "        if (i+1) % 100 == 0:\n",
        "            print ('Epoch [{}/{}], Step [{}/{}], Loss: {:.4f}' \n",
        "                   .format(epoch+1, num_epochs, i+1, total_step, loss.item()))\n",
        "\n",
        "# Test the model\n",
        "# In test phase, we don't need to compute gradients (for memory efficiency)\n",
        "with torch.no_grad():\n",
        "    correct = 0\n",
        "    total = 0\n",
        "    for images, labels in test_loader: # 한 for문에 image는 1*28*28 이 100개, label은 100개\n",
        "        images = images.reshape(-1, 28*28) # -1은 뒤에 열차원 숫자에 맞춰서 자동으로 -> 100*1*28*28 이 100*784로 바뀜\n",
        "        outputs = model(images)\n",
        "        _, predicted = torch.max(outputs.data, 1) # 각 텐서 (-2~1 정할수 있음) 별로 max 값과 그 index 뽑아줌, predicted에 index만 저장\n",
        "        total += labels.size(0) # batch size가 100이니까 100씩 더해지겠지\n",
        "        correct += (predicted == labels).sum() # 예측과 실제 비교해서 맞은 것 count\n",
        "\n",
        "    print('Accuracy of the model on the 10000 test images: {} %'.format(100 * correct / total))\n",
        "\n",
        "# Save the model checkpoint\n",
        "torch.save(model.state_dict(), 'model.ckpt')\n"
      ],
      "execution_count": 4,
      "outputs": [
        {
          "output_type": "stream",
          "text": [
            "Epoch [1/5], Step [100/600], Loss: 2.2264\n",
            "Epoch [1/5], Step [200/600], Loss: 2.1393\n",
            "Epoch [1/5], Step [300/600], Loss: 2.0009\n",
            "Epoch [1/5], Step [400/600], Loss: 1.9850\n",
            "Epoch [1/5], Step [500/600], Loss: 1.9195\n",
            "Epoch [1/5], Step [600/600], Loss: 1.8220\n",
            "Epoch [2/5], Step [100/600], Loss: 1.7594\n",
            "Epoch [2/5], Step [200/600], Loss: 1.6945\n",
            "Epoch [2/5], Step [300/600], Loss: 1.5847\n",
            "Epoch [2/5], Step [400/600], Loss: 1.5224\n",
            "Epoch [2/5], Step [500/600], Loss: 1.5222\n",
            "Epoch [2/5], Step [600/600], Loss: 1.4289\n",
            "Epoch [3/5], Step [100/600], Loss: 1.4882\n",
            "Epoch [3/5], Step [200/600], Loss: 1.3762\n",
            "Epoch [3/5], Step [300/600], Loss: 1.3952\n",
            "Epoch [3/5], Step [400/600], Loss: 1.2658\n",
            "Epoch [3/5], Step [500/600], Loss: 1.3462\n",
            "Epoch [3/5], Step [600/600], Loss: 1.2436\n",
            "Epoch [4/5], Step [100/600], Loss: 1.2770\n",
            "Epoch [4/5], Step [200/600], Loss: 1.1456\n",
            "Epoch [4/5], Step [300/600], Loss: 1.1804\n",
            "Epoch [4/5], Step [400/600], Loss: 1.1791\n",
            "Epoch [4/5], Step [500/600], Loss: 1.0590\n",
            "Epoch [4/5], Step [600/600], Loss: 1.0997\n",
            "Epoch [5/5], Step [100/600], Loss: 1.0302\n",
            "Epoch [5/5], Step [200/600], Loss: 1.0260\n",
            "Epoch [5/5], Step [300/600], Loss: 1.0757\n",
            "Epoch [5/5], Step [400/600], Loss: 1.0469\n",
            "Epoch [5/5], Step [500/600], Loss: 1.0466\n",
            "Epoch [5/5], Step [600/600], Loss: 1.0069\n",
            "Accuracy of the model on the 10000 test images: 82 %\n"
          ],
          "name": "stdout"
        }
      ]
    }
  ]
}