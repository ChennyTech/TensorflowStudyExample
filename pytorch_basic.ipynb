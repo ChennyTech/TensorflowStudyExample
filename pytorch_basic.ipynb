{
  "nbformat": 4,
  "nbformat_minor": 0,
  "metadata": {
    "colab": {
      "name": "pytorch_basic",
      "provenance": [],
      "collapsed_sections": [],
      "include_colab_link": true
    },
    "kernelspec": {
      "name": "python3",
      "display_name": "Python 3"
    }
  },
  "cells": [
    {
      "cell_type": "markdown",
      "metadata": {
        "id": "view-in-github",
        "colab_type": "text"
      },
      "source": [
        "<a href=\"https://colab.research.google.com/github/ChennyTech/TensorflowStudyExample/blob/master/pytorch_basic.ipynb\" target=\"_parent\"><img src=\"https://colab.research.google.com/assets/colab-badge.svg\" alt=\"Open In Colab\"/></a>"
      ]
    },
    {
      "cell_type": "code",
      "metadata": {
        "id": "2lMr6OPR6_vq",
        "colab_type": "code",
        "colab": {
          "base_uri": "https://localhost:8080/",
          "height": 73
        },
        "outputId": "830827aa-ed96-462d-d751-d210f8f3c538"
      },
      "source": [
        "import torch \n",
        "import torchvision\n",
        "import torch.nn as nn\n",
        "import numpy as np\n",
        "import torchvision.transforms as transforms\n",
        "\n",
        "\n",
        "# ================================================================== #\n",
        "#                         Table of Contents                          #\n",
        "# ================================================================== #\n",
        "\n",
        "# 1. Basic autograd example 1               (Line 25 to 39)\n",
        "# 2. Basic autograd example 2               (Line 46 to 83)\n",
        "# 3. Loading data from numpy                (Line 90 to 97)\n",
        "# 4. Input pipline                          (Line 104 to 129)\n",
        "# 5. Input pipline for custom dataset       (Line 136 to 156)\n",
        "# 6. Pretrained model                       (Line 163 to 176)\n",
        "# 7. Save and load model                    (Line 183 to 189) \n",
        "\n",
        "\n",
        "# ================================================================== #\n",
        "#                     1. Basic autograd example 1                    #\n",
        "# ================================================================== #\n",
        "\n",
        "# Create tensors.\n",
        "x = torch.tensor(1., requires_grad=True)\n",
        "w = torch.tensor(2., requires_grad=True)\n",
        "b = torch.tensor(3., requires_grad=True)\n",
        "\n",
        "# Build a computational graph.\n",
        "y = w * x + b    # y = 2 * x + 3\n",
        "\n",
        "# Compute gradients.\n",
        "y.backward() # 위 식에서 변수 하나하나에 대해 미분\n",
        "\n",
        "\n",
        "# Print out the gradients.\n",
        "print(x.grad)    # x.grad = 2 \n",
        "print(w.grad)    # w.grad = 1 \n",
        "print(b.grad)    # b.grad = 1 \n"
      ],
      "execution_count": 1,
      "outputs": [
        {
          "output_type": "stream",
          "text": [
            "tensor(2.)\n",
            "tensor(1.)\n",
            "tensor(1.)\n"
          ],
          "name": "stdout"
        }
      ]
    },
    {
      "cell_type": "code",
      "metadata": {
        "id": "wKQQNEAC7cc6",
        "colab_type": "code",
        "colab": {
          "base_uri": "https://localhost:8080/",
          "height": 391
        },
        "outputId": "090b42ad-2acc-449e-bf90-6227125f8a19"
      },
      "source": [
        "# ================================================================== #\n",
        "#                    2. Basic autograd example 2                     #\n",
        "# ================================================================== #\n",
        "\n",
        "# Create tensors of shape (10, 3) and (10, 2).\n",
        "x = torch.randn(10, 3) # normal distribution 따르는 10 X 5 tensor 생성\n",
        "y = torch.randn(10, 2)\n",
        "\n",
        "\n",
        "# Build a fully connected layer.\n",
        "linear = nn.Linear(3, 2)\n",
        "\n",
        "# nn.Linear은 nn.Module의 subclass로\n",
        "# in_features개의 input을 선형변환을 거쳐\n",
        "# out_features개의 output으로 변환\n",
        "\n",
        "# initialization?\n",
        "print ('w: ', linear.weight)\n",
        "print ('b: ', linear.bias)\n",
        "\n",
        "# Build loss function and optimizer.\n",
        "criterion = nn.MSELoss() # min square error\n",
        "optimizer = torch.optim.SGD(linear.parameters(), lr=0.01)\n",
        "\n",
        "# Forward pass.\n",
        "pred = linear(x)\n",
        "print(pred)\n",
        "\n",
        "# Compute loss.\n",
        "loss = criterion(pred, y)\n",
        "print('loss: ', loss.item()) # scalar값\n",
        "\n",
        "# Backward pass.\n",
        "loss.backward() # Loss summation 식 \n",
        "\n",
        "# Print out the gradients.\n",
        "print ('dL/dw: ', linear.weight.grad) # weight 하나하나에 대해 미분 -> w size로 나옴\n",
        "print ('dL/db: ', linear.bias.grad) # same\n",
        "\n",
        "\n",
        "# 1-step gradient descent.\n",
        "optimizer.step() # optimizer 지정해서 update\n",
        "\n",
        "# You can also perform gradient descent at the low level.\n",
        "linear.weight.data.sub_(0.01 * linear.weight.grad.data)\n",
        "linear.bias.data.sub_(0.01 * linear.bias.grad.data)\n",
        "\n",
        "# Print out the loss after 1-step gradient descent.\n",
        "pred = linear(x)\n",
        "loss = criterion(pred, y)\n",
        "print('loss after 1 step optimization: ', loss.item())\n",
        "\n",
        "\n"
      ],
      "execution_count": 2,
      "outputs": [
        {
          "output_type": "stream",
          "text": [
            "w:  Parameter containing:\n",
            "tensor([[-0.1015, -0.2930,  0.2548],\n",
            "        [-0.3571,  0.1770, -0.5132]], requires_grad=True)\n",
            "b:  Parameter containing:\n",
            "tensor([ 0.5232, -0.3208], requires_grad=True)\n",
            "tensor([[ 0.5655, -0.9727],\n",
            "        [ 0.4495,  0.2934],\n",
            "        [ 0.0523,  0.6382],\n",
            "        [ 1.0793, -0.2473],\n",
            "        [ 0.2078,  0.1531],\n",
            "        [ 0.0565,  0.2039],\n",
            "        [ 0.2827, -0.4332],\n",
            "        [ 0.3923,  0.1599],\n",
            "        [ 1.3307, -1.2586],\n",
            "        [ 0.5293,  0.0604]], grad_fn=<AddmmBackward>)\n",
            "loss:  0.6801878213882446\n",
            "dL/dw:  tensor([[-0.3225, -0.3871, -0.0368],\n",
            "        [-0.0693, -0.0010, -0.3283]])\n",
            "dL/db:  tensor([-0.0759, -0.0986])\n",
            "loss after 1 step optimization:  0.6725747585296631\n"
          ],
          "name": "stdout"
        }
      ]
    },
    {
      "cell_type": "code",
      "metadata": {
        "id": "2XeRCbnIBEU5",
        "colab_type": "code",
        "colab": {}
      },
      "source": [
        "# ================================================================== #\n",
        "#                     3. Loading data from numpy                     #\n",
        "# ================================================================== #\n",
        "\n",
        "# Create a numpy array.\n",
        "x = np.array([[1, 2], [3, 4]])\n",
        "\n",
        "# Convert the numpy array to a torch tensor.\n",
        "y = torch.from_numpy(x)\n",
        "\n",
        "# Convert the torch tensor to a numpy array.\n",
        "z = y.numpy()"
      ],
      "execution_count": 0,
      "outputs": []
    },
    {
      "cell_type": "code",
      "metadata": {
        "id": "weyLrr-TV_3N",
        "colab_type": "code",
        "colab": {
          "base_uri": "https://localhost:8080/",
          "height": 73
        },
        "outputId": "72be2232-275f-4dda-b42a-a6ae953ab66d"
      },
      "source": [
        "# ================================================================== #\n",
        "#                         4. Input pipline                           #\n",
        "# ================================================================== #\n",
        "\n",
        "# Download and construct CIFAR-10 dataset.\n",
        "train_dataset = torchvision.datasets.CIFAR10(root='../../data/',\n",
        "                                             train=True, \n",
        "                                             transform=transforms.ToTensor(),\n",
        "                                             download=True)\n",
        "\n",
        "# Fetch one data pair (read data from disk).\n",
        "image, label = train_dataset[0] # 데이터 읽어오기 \n",
        "print (image.size()) # 3 X 32 짜리가 32개\n",
        "print (label) # category\n",
        "\n",
        "# Data loader (this provides queues and threads in a very simple way).\n",
        "train_loader = torch.utils.data.DataLoader(dataset=train_dataset,\n",
        "                                           batch_size=64, \n",
        "                                           shuffle=True) # 64 samples 씩, shuffle data at every epoch\n",
        "\n",
        "# When iteration starts, queue and thread start to load data from files.\n",
        "data_iter = iter(train_loader)\n",
        "\n",
        "# Mini-batch images and labels.\n",
        "images, labels = data_iter.next() # next train_dataset 으로\n",
        "# image는 3 X 32 X 32 가 64개 있고, label은 scalar가 64개\n",
        "\n",
        "# Actual usage of the data loader is as below.\n",
        "for images, labels in train_loader:\n",
        "    # Training code should be written here.\n",
        "    pass\n",
        "\n",
        "\n"
      ],
      "execution_count": 5,
      "outputs": [
        {
          "output_type": "stream",
          "text": [
            "Files already downloaded and verified\n",
            "torch.Size([3, 32, 32])\n",
            "6\n"
          ],
          "name": "stdout"
        }
      ]
    },
    {
      "cell_type": "code",
      "metadata": {
        "id": "5ZzatBqynaCH",
        "colab_type": "code",
        "colab": {
          "base_uri": "https://localhost:8080/",
          "height": 73
        },
        "outputId": "2180d0d5-6e76-4319-9d02-d2cb5225d620"
      },
      "source": [
        "# ================================================================== #\n",
        "#                5. Input pipline for custom dataset                 #\n",
        "# ================================================================== #\n",
        "\n",
        "# You should build your custom dataset as below.\n",
        "class CustomDataset(torch.utils.data.Dataset):\n",
        "    def __init__(self):\n",
        "        # TODO\n",
        "        # 1. Initialize file paths or a list of file names. \n",
        "        pass\n",
        "    def __getitem__(self, index):\n",
        "        # TODO\n",
        "        # 1. Read one data from file (e.g. using numpy.fromfile, PIL.Image.open).\n",
        "        # 2. Preprocess the data (e.g. torchvision.Transform).\n",
        "        # 3. Return a data pair (e.g. image and label).\n",
        "        pass\n",
        "    def __len__(self):\n",
        "        # You should change 0 to the total size of your dataset.\n",
        "        return 100 \n",
        "\n",
        "# You can then use the prebuilt data loader. \n",
        "custom_dataset = CustomDataset()\n",
        "train_loader = torch.utils.data.DataLoader(dataset=custom_dataset,\n",
        "                                           batch_size=64, \n",
        "                                           shuffle=True)\n",
        "\n"
      ],
      "execution_count": 9,
      "outputs": [
        {
          "output_type": "stream",
          "text": [
            "torch.Size([64, 100])\n",
            "torch.Size([64, 3, 224, 224])\n"
          ],
          "name": "stdout"
        },
        {
          "output_type": "execute_result",
          "data": {
            "text/plain": [
              "<All keys matched successfully>"
            ]
          },
          "metadata": {
            "tags": []
          },
          "execution_count": 9
        }
      ]
    },
    {
      "cell_type": "code",
      "metadata": {
        "id": "9EpCg2Gsm5dg",
        "colab_type": "code",
        "colab": {
          "base_uri": "https://localhost:8080/",
          "height": 55
        },
        "outputId": "4def1464-c22e-4dcb-f80a-86183d48004c"
      },
      "source": [
        "# ================================================================== #\n",
        "#                        6. Pretrained model                         #\n",
        "# ================================================================== #\n",
        "\n",
        "# Download and load the pretrained ResNet-18.\n",
        "resnet = torchvision.models.resnet18(pretrained=True)\n",
        "\n",
        "# If you want to finetune only the top layer of the model, set as below.\n",
        "for param in resnet.parameters():\n",
        "    param.requires_grad = False # gradient 계산 안하겠다는 것\n",
        "\n",
        "# Replace the top layer for finetuning.\n",
        "resnet.fc = nn.Linear(resnet.fc.in_features, 100)  # 100 is an example. # output feature가 100\n",
        "\n",
        "# Forward pass.\n",
        "images = torch.randn(64, 3, 224, 224) # 3개의 224 X 224 가 -> 64개\n",
        "outputs = resnet(images)\n",
        "print (outputs.size())     # (64, 100) # 마지막 layer output feature를 100으로 설정했으니까\n",
        "\n",
        "\n",
        "# ================================================================== #\n",
        "#                      7. Save and load the model                    #\n",
        "# ================================================================== #\n",
        "\n",
        "# Save and load the entire model.\n",
        "torch.save(resnet, 'model.ckpt')\n",
        "model = torch.load('model.ckpt')\n",
        "\n",
        "# Save and load only the model parameters (recommended).\n",
        "torch.save(resnet.state_dict(), 'params.ckpt') # weight와 bias 저장\n",
        "resnet.load_state_dict(torch.load('params.ckpt'))"
      ],
      "execution_count": 18,
      "outputs": [
        {
          "output_type": "stream",
          "text": [
            "torch.Size([64, 100])\n"
          ],
          "name": "stdout"
        },
        {
          "output_type": "execute_result",
          "data": {
            "text/plain": [
              "<All keys matched successfully>"
            ]
          },
          "metadata": {
            "tags": []
          },
          "execution_count": 18
        }
      ]
    },
    {
      "cell_type": "code",
      "metadata": {
        "id": "lfSodSILyuDS",
        "colab_type": "code",
        "colab": {}
      },
      "source": [
        ""
      ],
      "execution_count": 0,
      "outputs": []
    },
    {
      "cell_type": "code",
      "metadata": {
        "id": "r-Z4W8TAy-Mo",
        "colab_type": "code",
        "colab": {}
      },
      "source": [
        ""
      ],
      "execution_count": 0,
      "outputs": []
    }
  ]
}