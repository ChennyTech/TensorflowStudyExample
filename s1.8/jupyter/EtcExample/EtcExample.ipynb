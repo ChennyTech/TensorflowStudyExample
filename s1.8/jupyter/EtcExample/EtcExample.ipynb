{
 "cells": [
  {
   "cell_type": "markdown",
   "metadata": {},
   "source": [
    "# Load & Save, MSE, Confusion Matrix\n",
    "The code and comments are by NamJungGu <nowage@gmail.com> \n",
    "\n",
    "<a rel=\"license\" href=\"http://creativecommons.org/licenses/by-nc-sa/4.0/\"><img alt=\"Creative Commons License\" style=\"border-width:0\" src=\"https://i.creativecommons.org/l/by-nc-sa/4.0/88x31.png\" /></a><br />This work is licensed under a <a rel=\"license\" href=\"http://creativecommons.org/licenses/by-nc-sa/4.0/\">Creative Commons Attribution-NonCommercial-ShareAlike 4.0 International License</a>.\n",
    "\n",
    "\n",
    "\n",
    "\n"
   ]
  },
  {
   "cell_type": "markdown",
   "metadata": {},
   "source": [
    "## 1. Save & Load"
   ]
  },
  {
   "cell_type": "markdown",
   "metadata": {},
   "source": [
    "### Save"
   ]
  },
  {
   "cell_type": "code",
   "execution_count": 41,
   "metadata": {},
   "outputs": [
    {
     "name": "stdout",
     "output_type": "stream",
     "text": [
      "[[ 0.7620883 ]\n",
      " [ 0.88618779]\n",
      " [ 0.38625494]\n",
      " [ 0.1306902 ]\n",
      " [ 0.64715582]\n",
      " [ 0.18450676]\n",
      " [ 0.08291309]\n",
      " [ 0.36497852]\n",
      " [ 0.94497532]\n",
      " [ 0.44990534]]\n",
      "[[ 0.06060236]\n",
      " [ 0.23273712]\n",
      " [ 0.96886051]\n",
      " [ 0.10972596]\n",
      " [ 0.88731933]\n",
      " [ 0.21435259]\n",
      " [ 0.27233437]\n",
      " [ 0.11205687]\n",
      " [ 0.05404501]\n",
      " [ 0.2192153 ]]\n"
     ]
    }
   ],
   "source": [
    "import tensorflow as tf\n",
    "import numpy as np\n",
    "\n",
    "\n",
    "x=np.float32(np.random.rand(10,1))\n",
    "np.savetxt('./x.csv',x,fmt='%f',delimiter=',')\n",
    "print(x)\n",
    "y=np.float32(np.random.rand(10,1))\n",
    "np.savetxt('./y.csv',y,fmt='%f',delimiter=',')\n",
    "print(y)"
   ]
  },
  {
   "cell_type": "markdown",
   "metadata": {},
   "source": [
    "## Load"
   ]
  },
  {
   "cell_type": "code",
   "execution_count": 42,
   "metadata": {},
   "outputs": [
    {
     "data": {
      "text/plain": [
       "array([[ 0.7620883 ,  0.06060236],\n",
       "       [ 0.88618779,  0.23273712],\n",
       "       [ 0.38625494,  0.96886051],\n",
       "       [ 0.1306902 ,  0.10972596],\n",
       "       [ 0.64715582,  0.88731933],\n",
       "       [ 0.18450676,  0.21435259],\n",
       "       [ 0.08291309,  0.27233437],\n",
       "       [ 0.36497852,  0.11205687],\n",
       "       [ 0.94497532,  0.05404501],\n",
       "       [ 0.44990534,  0.2192153 ]], dtype=float32)"
      ]
     },
     "execution_count": 42,
     "metadata": {},
     "output_type": "execute_result"
    }
   ],
   "source": [
    "x_load=np.loadtxt('./x.csv',delimiter=',')\n",
    "y_load=np.loadtxt('./y.csv',delimiter=',')\n",
    "arr=np.hstack([x,y])\n",
    "arr"
   ]
  },
  {
   "cell_type": "markdown",
   "metadata": {},
   "source": [
    "## 2. MSE(Mean Squared Error)"
   ]
  },
  {
   "cell_type": "code",
   "execution_count": 43,
   "metadata": {},
   "outputs": [
    {
     "data": {
      "text/plain": [
       "0.0008499999999999993"
      ]
     },
     "execution_count": 43,
     "metadata": {},
     "output_type": "execute_result"
    }
   ],
   "source": [
    "y=np.array([1.,1.,1.,1.])\n",
    "yTarget=np.array([0.8, 1.1,1.2,1.1])\n",
    "np.square( (y-yTarget)**2  ).mean()"
   ]
  },
  {
   "cell_type": "markdown",
   "metadata": {},
   "source": [
    "## 3. Confusion Matrix\n"
   ]
  },
  {
   "cell_type": "code",
   "execution_count": 44,
   "metadata": {},
   "outputs": [
    {
     "name": "stdout",
     "output_type": "stream",
     "text": [
      "[[4 2]\n",
      " [1 3]]\n"
     ]
    }
   ],
   "source": [
    "# Example of a confusion matrix in Python\n",
    "from sklearn.metrics import confusion_matrix\n",
    "import pandas as pd \n",
    "import numpy as np\n",
    "import matplotlib.pyplot as plt\n",
    "\n",
    "\n",
    "\n",
    "expected = [1, 1, 0, 1, 0, 0, 1, 0, 0, 0]\n",
    "predicted = [1, 0, 0, 1, 0, 0, 1, 1, 1, 0]\n",
    "results = confusion_matrix(expected, predicted)\n",
    "print(results)"
   ]
  },
  {
   "cell_type": "code",
   "execution_count": 12,
   "metadata": {},
   "outputs": [
    {
     "data": {
      "text/plain": [
       "<matplotlib.axes._subplots.AxesSubplot at 0x7f871d07c1d0>"
      ]
     },
     "execution_count": 12,
     "metadata": {},
     "output_type": "execute_result"
    },
    {
     "data": {
      "image/png": "[encoded data removed]",
      "text/plain": [
       "<matplotlib.figure.Figure at 0x7f871f1ab438>"
      ]
     },
     "metadata": {},
     "output_type": "display_data"
    }
   ],
   "source": [
    "import seaborn as sn\n",
    "\n",
    "df_cm = pd.DataFrame(results, range(2),\n",
    "                  range(2))\n",
    "plt.figure(figsize = (10,7))\n",
    "\n",
    "sn.heatmap(df_cm, annot=True)"
   ]
  },
  {
   "cell_type": "code",
   "execution_count": null,
   "metadata": {},
   "outputs": [],
   "source": []
  }
 ],
 "metadata": {
  "kernelspec": {
   "display_name": "tf1.4p35",
   "language": "python",
   "name": "tf1.4p35"
  },
  "language_info": {
   "codemirror_mode": {
    "name": "ipython",
    "version": 3
   },
   "file_extension": ".py",
   "mimetype": "text/x-python",
   "name": "python",
   "nbconvert_exporter": "python",
   "pygments_lexer": "ipython3",
   "version": "3.5.2"
  }
 },
 "nbformat": 4,
 "nbformat_minor": 2
}
