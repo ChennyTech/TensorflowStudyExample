{
  "nbformat": 4,
  "nbformat_minor": 0,
  "metadata": {
    "colab": {
      "name": "linear_regression",
      "provenance": [],
      "collapsed_sections": [],
      "include_colab_link": true
    },
    "kernelspec": {
      "name": "python3",
      "display_name": "Python 3"
    }
  },
  "cells": [
    {
      "cell_type": "markdown",
      "metadata": {
        "id": "view-in-github",
        "colab_type": "text"
      },
      "source": [
        "<a href=\"https://colab.research.google.com/github/ChennyTech/TensorflowStudyExample/blob/master/linear_regression.ipynb\" target=\"_parent\"><img src=\"https://colab.research.google.com/assets/colab-badge.svg\" alt=\"Open In Colab\"/></a>"
      ]
    },
    {
      "cell_type": "code",
      "metadata": {
        "id": "X1kMLBvNXMgD",
        "colab_type": "code",
        "outputId": "9710a4b3-d31b-4d4e-ffb2-4a6c9386be83",
        "colab": {
          "base_uri": "https://localhost:8080/",
          "height": 492
        }
      },
      "source": [
        "import torch\n",
        "import torch.nn as nn\n",
        "import numpy as np\n",
        "import matplotlib.pyplot as plt\n",
        "\n",
        "\n",
        "# Hyper-parameters\n",
        "input_size = 1\n",
        "output_size = 1\n",
        "num_epochs = 60\n",
        "learning_rate = 0.001\n",
        "\n",
        "# Toy dataset\n",
        "x_train = np.array([[3.3], [4.4], [5.5], [6.71], [6.93], [4.168], \n",
        "                    [9.779], [6.182], [7.59], [2.167], [7.042], \n",
        "                    [10.791], [5.313], [7.997], [3.1]], dtype=np.float32)\n",
        "\n",
        "y_train = np.array([[1.7], [2.76], [2.09], [3.19], [1.694], [1.573], \n",
        "                    [3.366], [2.596], [2.53], [1.221], [2.827], \n",
        "                    [3.465], [1.65], [2.904], [1.3]], dtype=np.float32)\n",
        "\n",
        "# Linear regression model\n",
        "model = nn.Linear(input_size, output_size) # feature 수\n",
        "\n",
        "# Loss and optimizer\n",
        "criterion = nn.MSELoss()\n",
        "optimizer = torch.optim.SGD(model.parameters(), lr=learning_rate)  \n",
        "\n",
        "# Train the model\n",
        "for epoch in range(num_epochs):\n",
        "    # Convert numpy arrays to torch tensors\n",
        "    inputs = torch.from_numpy(x_train)\n",
        "    targets = torch.from_numpy(y_train)\n",
        "\n",
        "    # Forward pass\n",
        "    outputs = model(inputs)\n",
        "    loss = criterion(outputs, targets) # output이 예측, target이 실제 값\n",
        "    \n",
        "    # Backward and optimize\n",
        "    optimizer.zero_grad() # gradient reset 필요, 계속 누적되기 때문\n",
        "    loss.backward()\n",
        "    optimizer.step()\n",
        "    \n",
        "    if (epoch+1) % 5 == 0:\n",
        "        print ('Epoch [{}/{}], Loss: {:.4f}'.format(epoch+1, num_epochs, loss.item()))\n",
        "\n",
        "# Plot the graph\n",
        "predicted = model(torch.from_numpy(x_train)).detach().numpy() #.detach()는 .item() 같은 것, numpy는 tensor to numpy array로\n",
        "# 과제 1 https://matplotlib.org/2.1.1/api/_as_gen/matplotlib.pyplot.plot.html\n",
        "plt.plot(x_train, y_train, 'y*', label='Original data') # ro는 red o # [color][marker][line]\n",
        "plt.plot(x_train, predicted, label='Fitted line')\n",
        "plt.legend()\n",
        "plt.show()\n",
        "\n",
        "# Save the model checkpoint\n",
        "torch.save(model.state_dict(), 'model.ckpt') # weight랑 bias가 metadata로 저장 됨"
      ],
      "execution_count": 0,
      "outputs": [
        {
          "output_type": "stream",
          "text": [
            "Epoch [5/60], Loss: 30.1238\n",
            "Epoch [10/60], Loss: 12.4813\n",
            "Epoch [15/60], Loss: 5.3336\n",
            "Epoch [20/60], Loss: 2.4375\n",
            "Epoch [25/60], Loss: 1.2638\n",
            "Epoch [30/60], Loss: 0.7878\n",
            "Epoch [35/60], Loss: 0.5946\n",
            "Epoch [40/60], Loss: 0.5158\n",
            "Epoch [45/60], Loss: 0.4835\n",
            "Epoch [50/60], Loss: 0.4699\n",
            "Epoch [55/60], Loss: 0.4640\n",
            "Epoch [60/60], Loss: 0.4612\n"
          ],
          "name": "stdout"
        },
        {
          "output_type": "display_data",
          "data": {
            "image/png": "[encoded data removed]",
            "text/plain": [
              "<Figure size 432x288 with 1 Axes>"
            ]
          },
          "metadata": {
            "tags": []
          }
        }
      ]
    },
    {
      "cell_type": "code",
      "metadata": {
        "id": "Mf0HMeM3vh8D",
        "colab_type": "code",
        "outputId": "b06dd0ec-1a02-4be0-9d47-80d36d596987",
        "colab": {
          "base_uri": "https://localhost:8080/",
          "height": 36
        }
      },
      "source": [
        "print(model.state_dict())"
      ],
      "execution_count": 0,
      "outputs": [
        {
          "output_type": "stream",
          "text": [
            "OrderedDict([('weight', tensor([[0.4688]])), ('bias', tensor([-0.7423]))])\n"
          ],
          "name": "stdout"
        }
      ]
    },
    {
      "cell_type": "code",
      "metadata": {
        "id": "4UNEOOryXUq_",
        "colab_type": "code",
        "outputId": "387b04e0-f1cc-49eb-87d8-b32afca77d0f",
        "colab": {
          "base_uri": "https://localhost:8080/",
          "height": 55
        }
      },
      "source": [
        "# 과제2\n",
        "model2 = nn.Linear(input_size, output_size)\n",
        "print(model2.state_dict()) # random하게 나옴\n",
        "model2.load_state_dict(torch.load('model.ckpt'))\n",
        "print(model2.state_dict()['weight']) # 저장된 값이 나옴"
      ],
      "execution_count": 0,
      "outputs": [
        {
          "output_type": "stream",
          "text": [
            "OrderedDict([('weight', tensor([[-0.7830]])), ('bias', tensor([-0.1994]))])\n",
            "tensor([[0.4688]])\n"
          ],
          "name": "stdout"
        }
      ]
    },
    {
      "cell_type": "code",
      "metadata": {
        "id": "_GAEIFN38aIE",
        "colab_type": "code",
        "outputId": "189f3000-e57c-448c-88af-3a2e4550e346",
        "colab": {
          "base_uri": "https://localhost:8080/",
          "height": 36
        }
      },
      "source": [
        "# 과제3 torch.max\n",
        "t= torch.tensor([[1,2,5,6,7,8],[4,1,2,5,6,5],[1,2,5,6,7,1],[10,0,1,2,5,6]])\n",
        "torch.max(t,0) # 없으면 전체 중/ -1, 1 이면 각 row 별/ -2, 0이면 각 column별,  "
      ],
      "execution_count": 0,
      "outputs": [
        {
          "output_type": "execute_result",
          "data": {
            "text/plain": [
              "torch.return_types.max(values=tensor([10,  2,  5,  6,  7,  8]), indices=tensor([3, 2, 2, 2, 2, 0]))"
            ]
          },
          "metadata": {
            "tags": []
          },
          "execution_count": 61
        }
      ]
    },
    {
      "cell_type": "code",
      "metadata": {
        "id": "Lt4rJQ8B-Rvl",
        "colab_type": "code",
        "colab": {}
      },
      "source": [
        ""
      ],
      "execution_count": 0,
      "outputs": []
    }
  ]
}