{
  "nbformat": 4,
  "nbformat_minor": 0,
  "metadata": {
    "colab": {
      "name": "linear_regression",
      "provenance": [],
      "collapsed_sections": [],
      "include_colab_link": true
    },
    "kernelspec": {
      "name": "python3",
      "display_name": "Python 3"
    }
  },
  "cells": [
    {
      "cell_type": "markdown",
      "metadata": {
        "id": "view-in-github",
        "colab_type": "text"
      },
      "source": [
        "<a href=\"https://colab.research.google.com/github/ChennyTech/TensorflowStudyExample/blob/master/linear_regression.ipynb\" target=\"_parent\"><img src=\"https://colab.research.google.com/assets/colab-badge.svg\" alt=\"Open In Colab\"/></a>"
      ]
    },
    {
      "cell_type": "code",
      "metadata": {
        "id": "X1kMLBvNXMgD",
        "colab_type": "code",
        "colab": {
          "base_uri": "https://localhost:8080/",
          "height": 493
        },
        "outputId": "2df6351e-732a-4898-bf59-ca1155a0cefd"
      },
      "source": [
        "import torch\n",
        "import torch.nn as nn\n",
        "import numpy as np\n",
        "import matplotlib.pyplot as plt\n",
        "\n",
        "\n",
        "# Hyper-parameters\n",
        "input_size = 1\n",
        "output_size = 1\n",
        "num_epochs = 60\n",
        "learning_rate = 0.001\n",
        "\n",
        "# Toy dataset\n",
        "x_train = np.array([[3.3], [4.4], [5.5], [6.71], [6.93], [4.168], \n",
        "                    [9.779], [6.182], [7.59], [2.167], [7.042], \n",
        "                    [10.791], [5.313], [7.997], [3.1]], dtype=np.float32)\n",
        "\n",
        "y_train = np.array([[1.7], [2.76], [2.09], [3.19], [1.694], [1.573], \n",
        "                    [3.366], [2.596], [2.53], [1.221], [2.827], \n",
        "                    [3.465], [1.65], [2.904], [1.3]], dtype=np.float32)\n",
        "\n",
        "# Linear regression model\n",
        "model = nn.Linear(input_size, output_size) # feature 수\n",
        "\n",
        "# Loss and optimizer\n",
        "criterion = nn.MSELoss()\n",
        "optimizer = torch.optim.SGD(model.parameters(), lr=learning_rate)  \n",
        "\n",
        "# Train the model\n",
        "for epoch in range(num_epochs):\n",
        "    # Convert numpy arrays to torch tensors\n",
        "    inputs = torch.from_numpy(x_train)\n",
        "    targets = torch.from_numpy(y_train)\n",
        "\n",
        "    # Forward pass\n",
        "    outputs = model(inputs)\n",
        "    loss = criterion(outputs, targets) # output이 예측, target이 실제 값\n",
        "    \n",
        "    # Backward and optimize\n",
        "    optimizer.zero_grad() # gradient reset 필요, 계속 누적되기 때문\n",
        "    loss.backward()\n",
        "    optimizer.step()\n",
        "    \n",
        "    if (epoch+1) % 5 == 0:\n",
        "        print ('Epoch [{}/{}], Loss: {:.4f}'.format(epoch+1, num_epochs, loss.item()))\n",
        "\n",
        "# Plot the graph\n",
        "predicted = model(torch.from_numpy(x_train)).detach().numpy() #.detach()는 .item() 같은 것, numpy는 tensor to numpy array로\n",
        "plt.plot(x_train, y_train, 'ro', label='Original data') # ro는 red o\n",
        "plt.plot(x_train, predicted, label='Fitted line')\n",
        "plt.legend()\n",
        "plt.show()\n",
        "\n",
        "# Save the model checkpoint\n",
        "torch.save(model.state_dict(), 'model.ckpt') # weight랑 bias가 metadata로 저장 됨"
      ],
      "execution_count": 2,
      "outputs": [
        {
          "output_type": "stream",
          "text": [
            "Epoch [5/60], Loss: 21.4992\n",
            "Epoch [10/60], Loss: 8.8169\n",
            "Epoch [15/60], Loss: 3.6790\n",
            "Epoch [20/60], Loss: 1.5976\n",
            "Epoch [25/60], Loss: 0.7544\n",
            "Epoch [30/60], Loss: 0.4127\n",
            "Epoch [35/60], Loss: 0.2743\n",
            "Epoch [40/60], Loss: 0.2182\n",
            "Epoch [45/60], Loss: 0.1955\n",
            "Epoch [50/60], Loss: 0.1863\n",
            "Epoch [55/60], Loss: 0.1825\n",
            "Epoch [60/60], Loss: 0.1810\n"
          ],
          "name": "stdout"
        },
        {
          "output_type": "display_data",
          "data": {
            "image/png": "[encoded data removed]",
            "text/plain": [
              "<Figure size 432x288 with 1 Axes>"
            ]
          },
          "metadata": {
            "tags": []
          }
        }
      ]
    },
    {
      "cell_type": "code",
      "metadata": {
        "id": "Mf0HMeM3vh8D",
        "colab_type": "code",
        "colab": {
          "base_uri": "https://localhost:8080/",
          "height": 36
        },
        "outputId": "d4140697-f47b-4cf8-9050-f020995a68a9"
      },
      "source": [
        "print(model.state_dict())"
      ],
      "execution_count": 9,
      "outputs": [
        {
          "output_type": "stream",
          "text": [
            "OrderedDict([('weight', tensor([[0.2972]])), ('bias', tensor([0.4572]))])\n"
          ],
          "name": "stdout"
        }
      ]
    },
    {
      "cell_type": "code",
      "metadata": {
        "id": "4UNEOOryXUq_",
        "colab_type": "code",
        "colab": {}
      },
      "source": [
        ""
      ],
      "execution_count": 0,
      "outputs": []
    }
  ]
}